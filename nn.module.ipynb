{
 "cells": [
  {
   "cell_type": "code",
   "execution_count": 1,
   "metadata": {},
   "outputs": [],
   "source": [
    "import torch\n",
    "from torch import nn"
   ]
  },
  {
   "cell_type": "code",
   "execution_count": 8,
   "metadata": {},
   "outputs": [
    {
     "name": "stdout",
     "output_type": "stream",
     "text": [
      "tensor(2.)\n",
      "i can called like a function\n",
      "secion type:<class 'str'> value: i\n",
      "forward 函數被調用\n",
      "in forward,傳入參數 :<class 'str'> value :i\n",
      "對象a傳入的參數 i\n"
     ]
    }
   ],
   "source": [
    "class kohiro(nn.Module):\n",
    "    def __init__(self) :\n",
    "        super(kohiro,self).__init__()\n",
    "    def forward(self,input):\n",
    "        output=input + 1\n",
    "        return output\n",
    "kohiro = kohiro()\n",
    "x = torch.tensor(1.0)\n",
    "output = kohiro(x)\n",
    "print(output)\n",
    "class A():\n",
    "    def __call__(self , param):\n",
    "        print('i can called like a function')\n",
    "        print('secion type:{} value: {}'.format(type(param),param))\n",
    "        res =  self.forward(param)\n",
    "        #??????????\n",
    "        return(res)\n",
    "    def forward(self,input_):\n",
    "        print('forward 函數被調用')\n",
    "        print('in forward,傳入參數 :{} value :{}'.format(type(input_),input_))\n",
    "        return input_\n",
    "a = A()\n",
    "input_param = a('i')\n",
    "print(\"對象a傳入的參數\",input_param)\n",
    "    \n",
    "\n"
   ]
  },
  {
   "cell_type": "code",
   "execution_count": null,
   "metadata": {},
   "outputs": [],
   "source": [
    "\n"
   ]
  }
 ],
 "metadata": {
  "kernelspec": {
   "display_name": "base",
   "language": "python",
   "name": "python3"
  },
  "language_info": {
   "codemirror_mode": {
    "name": "ipython",
    "version": 3
   },
   "file_extension": ".py",
   "mimetype": "text/x-python",
   "name": "python",
   "nbconvert_exporter": "python",
   "pygments_lexer": "ipython3",
   "version": "3.12.3"
  }
 },
 "nbformat": 4,
 "nbformat_minor": 2
}
