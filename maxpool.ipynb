{
 "cells": [
  {
   "cell_type": "code",
   "execution_count": 1,
   "metadata": {},
   "outputs": [
    {
     "name": "stdout",
     "output_type": "stream",
     "text": [
      "torch.Size([1, 1, 5, 5])\n",
      "tensor([[[[2., 3.],\n",
      "          [5., 1.]]]])\n"
     ]
    }
   ],
   "source": [
    "import torch\n",
    "from torch import nn \n",
    "from torch.nn import MaxPool2d\n",
    "\n",
    "input = torch.tensor([[1,2,0,3,1],\n",
    "                     [0,1,2,3,1],\n",
    "                     [1,2,1,0,0],\n",
    "                     [5,2,3,1,1],\n",
    "                     [2,1,0,1,1]], dtype = torch.float32)\n",
    "input = torch.reshape(input,(-1,1,5,5)) \n",
    "print(input.shape)\n",
    "\n",
    "class Tudui(nn.Module):\n",
    "    def __init__(self):\n",
    "        super(Tudui, self).__init__()\n",
    "        self.maxpool = MaxPool2d(kernel_size=3, ceil_mode=True)\n",
    "        \n",
    "    def forward(self, input):\n",
    "        output = self.maxpool(input)\n",
    "        return output\n",
    "        \n",
    "tudui = Tudui()\n",
    "output = tudui(input)\n",
    "print(output)"
   ]
  },
  {
   "cell_type": "code",
   "execution_count": null,
   "metadata": {},
   "outputs": [],
   "source": [
    "import torch\n",
    "import torchvision\n",
    "from torch import nn \n",
    "from torch.nn import MaxPool2d\n",
    "from torch.utils.data import DataLoader\n",
    "from torch.utils.tensorboard import SummaryWriter\n",
    "\n",
    "dataset = torchvision.datasets.CIFAR10(\"./dataset\",train=False,transform=torchvision.transforms.ToTensor(),download=True)       \n",
    "dataloader = DataLoader(dataset, batch_size=64)\n",
    "\n",
    "class Tudui(nn.Module):\n",
    "    def __init__(self):\n",
    "        super(Tudui, self).__init__()\n",
    "        self.maxpool = MaxPool2d(kernel_size=3, ceil_mode=True)\n",
    "        \n",
    "    def forward(self, input):\n",
    "        output = self.maxpool(input)\n",
    "        return output\n",
    "\n",
    "tudui = Tudui()\n",
    "writer = SummaryWriter(\"logs\")\n",
    "step = 0\n",
    "\n",
    "for data in dataloader:\n",
    "    imgs, targets = data\n",
    "    writer.add_images(\"input\", imgs, step)\n",
    "    output = tudui(imgs)\n",
    "    writer.add_images(\"output\", output, step)\n",
    "    step = step + 1"
   ]
  }
 ],
 "metadata": {
  "kernelspec": {
   "display_name": "base",
   "language": "python",
   "name": "python3"
  },
  "language_info": {
   "codemirror_mode": {
    "name": "ipython",
    "version": 3
   },
   "file_extension": ".py",
   "mimetype": "text/x-python",
   "name": "python",
   "nbconvert_exporter": "python",
   "pygments_lexer": "ipython3",
   "version": "3.12.3"
  }
 },
 "nbformat": 4,
 "nbformat_minor": 2
}
